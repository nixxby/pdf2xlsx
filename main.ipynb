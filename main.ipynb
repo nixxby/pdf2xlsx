{
 "cells": [
  {
   "cell_type": "code",
   "execution_count": 56,
   "id": "ecd61c2d",
   "metadata": {},
   "outputs": [],
   "source": [
    "import pandas as pd\n",
    "import pdfplumber\n",
    "import re\n",
    "from datetime import datetime"
   ]
  },
  {
   "cell_type": "code",
   "execution_count": 57,
   "id": "8c9545df",
   "metadata": {},
   "outputs": [],
   "source": [
    "def change_date_format(date_str):\n",
    "    \"\"\"\n",
    "    Change date string type (Ex. 02 Mar 2019) to date() object (Ex. 2019-03-04)\n",
    "    \"\"\"\n",
    "    return datetime.strptime(date_str, '%d %b %Y').date()"
   ]
  },
  {
   "cell_type": "code",
   "execution_count": 58,
   "id": "d3e69810",
   "metadata": {},
   "outputs": [],
   "source": [
    "#Open the pdf file\n",
    "with pdfplumber.open(\"test_input.pdf\") as pdf:\n",
    "    val_dates, ord_dates, descriptions, currencies, debit, credit = ([] for _ in range(6))\n",
    "    #Start text extraction for each page. \n",
    "    for page in pdf.pages:\n",
    "        page_text = page.extract_text(x_tolerance=2, y_tolerance=0)\n",
    "        \n",
    "        #Read the extract line by line\n",
    "        for line in page_text.split('\\n'):\n",
    "            #RegEx for dates and currencies.\n",
    "            rows = re.compile(r'\\b(\\d{1,2} ?(?:Jan|Feb|Mar|Apr|May|Jun|Jul|Aug|Sep|Oct|Nov|Dec) \\d{4})')  \n",
    "            curr_rows = re.compile(r'\\bDeposits ')\n",
    "            \n",
    "            #Find Dates, Description, Currency and Amounts of Credit/Debit from each line\n",
    "            if re.match(curr_rows,line):\n",
    "                curr = re.compile(r'[A-Z]{3}')\n",
    "                currency = re.findall(curr,line)\n",
    "\n",
    "            if re.match(rows,line):\n",
    "                dates = re.findall(rows, line)\n",
    "                modified_dates = [change_date_format(date_str) for date_str in dates]\n",
    "                amount = list(line.split(\" \"))[-1]\n",
    "\n",
    "                val_dates.append(modified_dates[0])\n",
    "                ord_dates.append(modified_dates[1])\n",
    "\n",
    "                description = ' '.join(line.split(\" \")[6:-1])\n",
    "                descriptions.append(description)\n",
    "                currencies.append(currency[0])\n",
    "                \n",
    "                if amount[0]=='(':\n",
    "                    debit.append('{:.2f}'.format(round(float(amount[1:-1].replace(',', '')),2)))\n",
    "                    credit.append(None)\n",
    "                else:\n",
    "                    credit.append('{:.2f}'.format(round(float(amount.replace(',', '')),2)))\n",
    "                    debit.append(None)\n",
    "            \n",
    "            #Each extended Description in newline is in all Upper caps. \n",
    "            #Otherwise we can adopt another strategy to extract extended descriptions,\n",
    "            #using the position of the characters and aligning them with description line just above.\n",
    "\n",
    "            elif line.isupper():\n",
    "                descriptions[-1] = ''.join([descriptions[-1],line])"
   ]
  },
  {
   "cell_type": "code",
   "execution_count": 59,
   "id": "fdf80680",
   "metadata": {},
   "outputs": [
    {
     "name": "stdout",
     "output_type": "stream",
     "text": [
      "Extraction Successful👍\n"
     ]
    }
   ],
   "source": [
    "data = {\n",
    "        'Value Date': val_dates, \n",
    "        'Order Date': ord_dates,\n",
    "        'Description': descriptions, \n",
    "        'Currency': currencies, \n",
    "        'Debit': debit, \n",
    "        'Credit': credit,\n",
    "        }\n",
    "df = pd.DataFrame(data)\n",
    "df['Debit'] = df['Debit'].astype(float)\n",
    "df['Credit'] = df['Credit'].astype(float)\n",
    "\n",
    "df = df.sort_values(by = [\"Value Date\",\"Order Date\"],ignore_index=True)\n",
    "df.to_excel('test_output.xlsx', index=False)\n",
    "print(\"Extraction Successful👍\")"
   ]
  }
 ],
 "metadata": {
  "kernelspec": {
   "display_name": "Python 3",
   "language": "python",
   "name": "python3"
  },
  "language_info": {
   "codemirror_mode": {
    "name": "ipython",
    "version": 3
   },
   "file_extension": ".py",
   "mimetype": "text/x-python",
   "name": "python",
   "nbconvert_exporter": "python",
   "pygments_lexer": "ipython3",
   "version": "3.8.8"
  }
 },
 "nbformat": 4,
 "nbformat_minor": 5
}
